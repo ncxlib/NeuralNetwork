{
 "cells": [
  {
   "cell_type": "markdown",
   "id": "7091b956",
   "metadata": {},
   "source": [
    "# Scrap Testing Notebook\n"
   ]
  },
  {
   "cell_type": "code",
   "execution_count": 1,
   "id": "cdf1533b",
   "metadata": {},
   "outputs": [],
   "source": [
    "import numpy as np\n"
   ]
  },
  {
   "cell_type": "code",
   "execution_count": 5,
   "id": "86ae7732",
   "metadata": {},
   "outputs": [],
   "source": [
    "from neuralnetwork import activations"
   ]
  },
  {
   "cell_type": "code",
   "execution_count": null,
   "id": "21c71cc0",
   "metadata": {},
   "outputs": [],
   "source": []
  }
 ],
 "metadata": {
  "kernelspec": {
   "display_name": "neuralnetwork-_Dz1j7dm-py3.11",
   "language": "python",
   "name": "python3"
  },
  "language_info": {
   "codemirror_mode": {
    "name": "ipython",
    "version": 3
   },
   "file_extension": ".py",
   "mimetype": "text/x-python",
   "name": "python",
   "nbconvert_exporter": "python",
   "pygments_lexer": "ipython3",
   "version": "3.11.2"
  }
 },
 "nbformat": 4,
 "nbformat_minor": 5
}
