{
 "cells": [
  {
   "cell_type": "markdown",
   "id": "1e9926bb",
   "metadata": {},
   "source": [
    "# Scrap Testing Notebook\n"
   ]
  },
  {
   "cell_type": "code",
   "execution_count": null,
   "id": "91061fe5",
   "metadata": {},
   "outputs": [],
   "source": [
    "import numpy as np\n"
   ]
  }
 ],
 "metadata": {
  "language_info": {
   "name": "python"
  }
 },
 "nbformat": 4,
 "nbformat_minor": 5
}
